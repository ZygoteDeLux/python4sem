{
 "cells": [
  {
   "cell_type": "code",
   "execution_count": 1,
   "metadata": {},
   "outputs": [
    {
     "name": "stdout",
     "output_type": "stream",
     "text": [
      "Board members who are not employees: {'Søren', 'Torben', 'Hans', 'Mille', 'Benny', 'Troels'}\n",
      "Board members who are also employees: {'Tine'}\n",
      "Number of management members also on the board: 1\n",
      "All members of management are also employees: True\n",
      "All members of management are also in the board: False\n",
      "Employee, management, and board member: {'Tine'}\n",
      "Employees who are neither in the board nor management: {'Niels', 'Anna', 'Lars', 'Ole', 'Allan', 'Stine', 'James', 'Bent', 'Claus'}\n"
     ]
    }
   ],
   "source": [
    "# Define the sets for Board of Directors, Management, and Employees\n",
    "board_of_directors = {\"Benny\", \"Hans\", \"Tine\", \"Mille\", \"Torben\", \"Troels\", \"Søren\"}\n",
    "management = {\"Tine\", \"Trunte\", \"Rane\"}\n",
    "employees = {\"Niels\", \"Anna\", \"Tine\", \"Ole\", \"Trunte\", \"Bent\", \"Rane\", \"Allan\", \"Stine\", \"Claus\", \"James\", \"Lars\"}\n",
    "\n",
    "# Find who in the board of directors is not an employee\n",
    "not_employee_in_board = board_of_directors - employees\n",
    "print(\"Board members who are not employees:\", not_employee_in_board)\n",
    "\n",
    "# Find who in the board of directors is also an employee\n",
    "board_and_employee = board_of_directors.intersection(employees)\n",
    "print(\"Board members who are also employees:\", board_and_employee)\n",
    "\n",
    "# Find how many of the management are also members of the board\n",
    "management_and_board = management.intersection(board_of_directors)\n",
    "print(\"Number of management members also on the board:\", len(management_and_board))\n",
    "\n",
    "# Check if all members of the management are also employees\n",
    "management_subset_of_employees = management.issubset(employees)\n",
    "print(\"All members of management are also employees:\", management_subset_of_employees)\n",
    "\n",
    "# Check if all members of the management are also in the board\n",
    "management_subset_of_board = management.issubset(board_of_directors)\n",
    "print(\"All members of management are also in the board:\", management_subset_of_board)\n",
    "\n",
    "# Find who is an employee, a member of management, and a member of the board\n",
    "employee_management_board = employees.intersection(management).intersection(board_of_directors)\n",
    "print(\"Employee, management, and board member:\", employee_management_board)\n",
    "\n",
    "# Find employees who are neither in the board nor management\n",
    "not_in_board_or_management = employees - board_of_directors - management\n",
    "print(\"Employees who are neither in the board nor management:\", not_in_board_or_management)\n"
   ]
  }
 ],
 "metadata": {
  "kernelspec": {
   "display_name": ".venv",
   "language": "python",
   "name": "python3"
  },
  "language_info": {
   "codemirror_mode": {
    "name": "ipython",
    "version": 3
   },
   "file_extension": ".py",
   "mimetype": "text/x-python",
   "name": "python",
   "nbconvert_exporter": "python",
   "pygments_lexer": "ipython3",
   "version": "3.11.4"
  },
  "orig_nbformat": 4
 },
 "nbformat": 4,
 "nbformat_minor": 2
}
