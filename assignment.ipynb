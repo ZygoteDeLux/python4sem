{
 "cells": [
  {
   "cell_type": "code",
   "execution_count": 1,
   "metadata": {},
   "outputs": [
    {
     "name": "stdout",
     "output_type": "stream",
     "text": [
      "Board members who are not employees: {'Søren', 'Torben', 'Hans', 'Mille', 'Benny', 'Troels'}\n",
      "Board members who are also employees: {'Tine'}\n",
      "Number of management members also on the board: 1\n",
      "All members of management are also employees: True\n",
      "All members of management are also in the board: False\n",
      "Employee, management, and board member: {'Tine'}\n",
      "Employees who are neither in the board nor management: {'Niels', 'Anna', 'Lars', 'Ole', 'Allan', 'Stine', 'James', 'Bent', 'Claus'}\n"
     ]
    }
   ],
   "source": [
    "# Define the sets for Board of Directors, Management, and Employees\n",
    "board_of_directors = {\"Benny\", \"Hans\", \"Tine\", \"Mille\", \"Torben\", \"Troels\", \"Søren\"}\n",
    "management = {\"Tine\", \"Trunte\", \"Rane\"}\n",
    "employees = {\"Niels\", \"Anna\", \"Tine\", \"Ole\", \"Trunte\", \"Bent\", \"Rane\", \"Allan\", \"Stine\", \"Claus\", \"James\", \"Lars\"}\n",
    "\n",
    "# Find who in the board of directors is not an employee\n",
    "not_employee_in_board = board_of_directors - employees\n",
    "print(\"Board members who are not employees:\", not_employee_in_board)\n",
    "\n",
    "# Find who in the board of directors is also an employee\n",
    "board_and_employee = board_of_directors.intersection(employees)\n",
    "print(\"Board members who are also employees:\", board_and_employee)\n",
    "\n",
    "# Find how many of the management are also members of the board\n",
    "management_and_board = management.intersection(board_of_directors)\n",
    "print(\"Number of management members also on the board:\", len(management_and_board))\n",
    "\n",
    "# Check if all members of the management are also employees\n",
    "management_subset_of_employees = management.issubset(employees)\n",
    "print(\"All members of management are also employees:\", management_subset_of_employees)\n",
    "\n",
    "# Check if all members of the management are also in the board\n",
    "management_subset_of_board = management.issubset(board_of_directors)\n",
    "print(\"All members of management are also in the board:\", management_subset_of_board)\n",
    "\n",
    "# Find who is an employee, a member of management, and a member of the board\n",
    "employee_management_board = employees.intersection(management).intersection(board_of_directors)\n",
    "print(\"Employee, management, and board member:\", employee_management_board)\n",
    "\n",
    "# Find employees who are neither in the board nor management\n",
    "not_in_board_or_management = employees - board_of_directors - management\n",
    "print(\"Employees who are neither in the board nor management:\", not_in_board_or_management)\n"
   ]
  },
  {
   "cell_type": "code",
   "execution_count": 2,
   "metadata": {},
   "outputs": [
    {
     "name": "stdout",
     "output_type": "stream",
     "text": [
      "[('a', 'Alpha'), ('b', 'Beta'), ('g', 'Gamma')]\n"
     ]
    }
   ],
   "source": [
    "data = {'a': 'Alpha', 'b': 'Beta', 'g': 'Gamma'}\n",
    "\n",
    "# Create a list of tuples from the dictionary\n",
    "list_of_tuples = [(key, value) for key, value in data.items()]\n",
    "\n",
    "# Print the resulting list of tuples\n",
    "print(list_of_tuples)"
   ]
  },
  {
   "cell_type": "code",
   "execution_count": 3,
   "metadata": {},
   "outputs": [
    {
     "name": "stdout",
     "output_type": "stream",
     "text": [
      "Union using set method: {'å', 'ø', 'e', 'o', 'y', 'a', 'æ', 'u', 'i'}\n",
      "Union using set operator: {'å', 'ø', 'e', 'o', 'y', 'a', 'æ', 'u', 'i'}\n",
      "Symmetric Difference using set method: {'å', 'ø', 'æ'}\n",
      "Symmetric Difference using set operator: {'å', 'ø', 'æ'}\n",
      "Difference (Set 1 - Set 2) using set method: set()\n",
      "Difference (Set 1 - Set 2) using set operator: set()\n",
      "Are the sets disjoint using set method: False\n",
      "Are the sets disjoint using set operator: False\n"
     ]
    }
   ],
   "source": [
    "# Given sets\n",
    "set1 = {'a', 'e', 'i', 'o', 'u', 'y'}\n",
    "set2 = {'a', 'e', 'i', 'o', 'u', 'y', 'æ', 'ø', 'å'}\n",
    "\n",
    "# Union\n",
    "union_method = set1.union(set2)\n",
    "union_operator = set1 | set2\n",
    "\n",
    "# Symmetric Difference\n",
    "symmetric_difference_method = set1.symmetric_difference(set2)\n",
    "symmetric_difference_operator = set1 ^ set2\n",
    "\n",
    "# Difference (Set 1 - Set 2)\n",
    "difference_method = set1.difference(set2)\n",
    "difference_operator = set1 - set2\n",
    "\n",
    "# Disjoint\n",
    "disjoint_method = set1.isdisjoint(set2)\n",
    "disjoint_operator = not bool(set1 & set2)\n",
    "\n",
    "# Print results\n",
    "print(\"Union using set method:\", union_method)\n",
    "print(\"Union using set operator:\", union_operator)\n",
    "print(\"Symmetric Difference using set method:\", symmetric_difference_method)\n",
    "print(\"Symmetric Difference using set operator:\", symmetric_difference_operator)\n",
    "print(\"Difference (Set 1 - Set 2) using set method:\", difference_method)\n",
    "print(\"Difference (Set 1 - Set 2) using set operator:\", difference_operator)\n",
    "print(\"Are the sets disjoint using set method:\", disjoint_method)\n",
    "print(\"Are the sets disjoint using set operator:\", disjoint_operator)\n"
   ]
  },
  {
   "cell_type": "code",
   "execution_count": 8,
   "metadata": {},
   "outputs": [
    {
     "name": "stdout",
     "output_type": "stream",
     "text": [
      "('1925', '03', '8')\n"
     ]
    }
   ],
   "source": [
    "# Define a dictionary to map month names to their corresponding numbers\n",
    "month_dict = {\n",
    "    'JAN': '01', 'FEB': '02', 'MAR': '03', 'APR': '04',\n",
    "    'MAY': '05', 'JUN': '06', 'JUL': '07', 'AUG': '08',\n",
    "    'SEP': '09', 'OCT': '10', 'NOV': '11', 'DEC': '12'\n",
    "}\n",
    "\n",
    "def parse_date(date_str):\n",
    "    # Split the date string into day, month abbreviation, and year\n",
    "    day, month_abbr, year = date_str.split('-')\n",
    "\n",
    "    # Translate the month abbreviation to a number using the dictionary\n",
    "    month = month_dict.get(month_abbr.upper())\n",
    "\n",
    "    # Correct the year to include all digits (assuming it's in the 20th century)\n",
    "    if int(year) < 24:\n",
    "        year = '20' + year\n",
    "    else:\n",
    "        year = '19' + year\n",
    "\n",
    "    # Return the date as a tuple of (year, month, day)\n",
    "    return (year, month, day)\n",
    "\n",
    "# Example\n",
    "date_str = '8-MAR-25'\n",
    "parsed_date = parse_date(date_str)\n",
    "print(parsed_date)\n"
   ]
  },
  {
   "cell_type": "code",
   "execution_count": 10,
   "metadata": {},
   "outputs": [
    {
     "name": "stdout",
     "output_type": "stream",
     "text": [
      "Friends who have not RSVP'd: {'Anders', 'Caroline'}\n",
      "Friends who were not invited but RSVP'd: {'Jesper', 'Ida'}\n",
      "Common friends in both lists: {'Dennis', 'Birgit', 'Hanne', 'Freja', 'Emilie', 'Gustav'}\n"
     ]
    }
   ],
   "source": [
    "# Define the sets of invited friends and RSVP'd friends\n",
    "invited_friends = {\"Anders\", \"Birgit\", \"Caroline\", \"Dennis\", \"Emilie\", \"Freja\", \"Gustav\", \"Hanne\"}\n",
    "rsvp_friends = {\"Birgit\", \"Dennis\", \"Emilie\", \"Freja\", \"Gustav\", \"Hanne\", \"Ida\", \"Jesper\"}\n",
    "\n",
    "# Find friends who have not RSVP'd\n",
    "not_rsvped = invited_friends - rsvp_friends\n",
    "\n",
    "# Find friends who were not invited but RSVP'd\n",
    "not_invited_but_rsvped = rsvp_friends - invited_friends\n",
    "\n",
    "# Find common friends in both lists (invited and RSVP'd)\n",
    "common_friends = invited_friends.intersection(rsvp_friends)\n",
    "\n",
    "# Print the results\n",
    "print(\"Friends who have not RSVP'd:\", not_rsvped)\n",
    "print(\"Friends who were not invited but RSVP'd:\", not_invited_but_rsvped)\n",
    "print(\"Common friends in both lists:\", common_friends)\n"
   ]
  },
  {
   "cell_type": "code",
   "execution_count": 11,
   "metadata": {},
   "outputs": [
    {
     "name": "stdout",
     "output_type": "stream",
     "text": [
      "Students with grades higher than 85:\n",
      "Anders\n",
      "Birgit\n",
      "Caroline\n",
      "Dennis\n",
      "Freja\n",
      "Hanne\n"
     ]
    }
   ],
   "source": [
    "# Define the dictionary of students\n",
    "student_grades = {\n",
    "    \"Anders\": 92,\n",
    "    \"Birgit\": 78,\n",
    "    \"Caroline\": 88,\n",
    "    \"Dennis\": 95,\n",
    "    \"Emilie\": 76,\n",
    "    \"Freja\": 89,\n",
    "    \"Gustav\": 72,\n",
    "    \"Hanne\": 96\n",
    "}\n",
    "\n",
    "# Update the grades of specific students\n",
    "student_grades[\"Birgit\"] = 90\n",
    "student_grades[\"Emilie\"] = 85\n",
    "\n",
    "# Find and print the names of students with grades higher than 85\n",
    "high_grades_students = [name for name, grade in student_grades.items() if grade > 85]\n",
    "\n",
    "print(\"Students with grades higher than 85:\")\n",
    "for student in high_grades_students:\n",
    "    print(student)\n"
   ]
  }
 ],
 "metadata": {
  "kernelspec": {
   "display_name": ".venv",
   "language": "python",
   "name": "python3"
  },
  "language_info": {
   "codemirror_mode": {
    "name": "ipython",
    "version": 3
   },
   "file_extension": ".py",
   "mimetype": "text/x-python",
   "name": "python",
   "nbconvert_exporter": "python",
   "pygments_lexer": "ipython3",
   "version": "3.11.4"
  },
  "orig_nbformat": 4
 },
 "nbformat": 4,
 "nbformat_minor": 2
}
